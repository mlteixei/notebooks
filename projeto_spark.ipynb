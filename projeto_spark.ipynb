{
  "cells": [
    {
      "cell_type": "markdown",
      "metadata": {
        "id": "view-in-github",
        "colab_type": "text"
      },
      "source": [
        "<a href=\"https://colab.research.google.com/github/mlteixei/notebooks/blob/main/projeto_spark.ipynb\" target=\"_parent\"><img src=\"https://colab.research.google.com/assets/colab-badge.svg\" alt=\"Open In Colab\"/></a>"
      ]
    },
    {
      "cell_type": "markdown",
      "metadata": {
        "id": "CyAh7l9hGlHq"
      },
      "source": [
        "# Introdução\n",
        "---"
      ]
    },
    {
      "cell_type": "markdown",
      "metadata": {
        "id": "Dy3ApfOoGlHt"
      },
      "source": [
        "### Apache Spark\n",
        "Apache Spark é uma plataforma de computação em *cluster* que fornece uma API para programação distribuída para processamento de dados em larga escala, semelhante ao modelo *MapReduce*, mas projetada para ser mais rápida .\n",
        "\n",
        "O Spark permite processamento distribuído de tarefas em clusters com vários nós. A divisão dos dados torna mais fácil o trabalho com conjuntos de dados muito grandes porque cada nó processa apenas uma parte parte do volume total de dados."
      ]
    },
    {
      "cell_type": "markdown",
      "metadata": {
        "id": "Rc3Adto4jWDj"
      },
      "source": [
        "### PySpark\n",
        "PySpark é uma interface para Apache Spark em Python. O PySpark oferece suporte à maioria dos recursos do Spark, como Spark SQL, DataFrame, Streaming, MLlib (Machine Learning) e Spark Core."
      ]
    },
    {
      "cell_type": "markdown",
      "metadata": {
        "id": "A_pds0odi1Rj"
      },
      "source": [
        "### Utilizando o Spark no Google Colab\n",
        "\n",
        "Para utilizar o Google Colab e para configurar o PySpark utilizamos os comandos abaixo."
      ]
    },
    {
      "cell_type": "code",
      "execution_count": null,
      "metadata": {
        "id": "JmcO4uWZ3OLO"
      },
      "outputs": [],
      "source": [
        "# instalando as dependências\n",
        "!apt-get update -qq\n",
        "!apt-get install openjdk-8-jdk-headless -qq > /dev/null\n",
        "!wget -q https://archive.apache.org/dist/spark/spark-3.1.2/spark-3.1.2-bin-hadoop2.7.tgz\n",
        "!tar xf spark-3.1.2-bin-hadoop2.7.tgz\n",
        "!pip install -q findspark"
      ]
    },
    {
      "cell_type": "code",
      "execution_count": null,
      "metadata": {
        "id": "_4Z_1m0z3sPJ"
      },
      "outputs": [],
      "source": [
        "# criando variáveis de ambiente para o JAVA e SPARK\n",
        "import os\n",
        "os.environ[\"JAVA_HOME\"] = \"/usr/lib/jvm/java-8-openjdk-amd64\"\n",
        "os.environ[\"SPARK_HOME\"] = \"/content/spark-3.1.2-bin-hadoop2.7\""
      ]
    },
    {
      "cell_type": "code",
      "execution_count": null,
      "metadata": {
        "id": "kqdft9fpGlH0"
      },
      "outputs": [],
      "source": [
        "# biblioteca para localizar o caminho do SPARK\n",
        "import findspark\n",
        "findspark.init()"
      ]
    },
    {
      "cell_type": "markdown",
      "metadata": {
        "id": "xIZNca7Pjgqf"
      },
      "source": [
        "# Carregamento dos dados\n",
        "---"
      ]
    },
    {
      "cell_type": "markdown",
      "source": [
        "### Baixando o dataset do Kaggle\n",
        "Vamos baixar o dataset diretamente do Kaggle e fazer a leitura dos dados"
      ],
      "metadata": {
        "id": "3vKR0J0BY_Vi"
      }
    },
    {
      "cell_type": "code",
      "source": [
        "# baixando o dataset do Kaggle\n",
        "!pip install opendatasets\n",
        "!pip install pandas\n",
        "import opendatasets as od\n",
        "import pandas\n",
        "# {\"username\":\"matheusltr\",\"key\":\"e4c5cddd081452edd92831397f77e91e\"}  \n",
        "od.download(\"https://www.kaggle.com/datasets/ealaxi/paysim1\")"
      ],
      "metadata": {
        "colab": {
          "base_uri": "https://localhost:8080/"
        },
        "id": "W1umHJHinvMB",
        "outputId": "e585f4ec-4e7d-48fb-df04-ed683a942d57"
      },
      "execution_count": null,
      "outputs": [
        {
          "output_type": "stream",
          "name": "stdout",
          "text": [
            "Looking in indexes: https://pypi.org/simple, https://us-python.pkg.dev/colab-wheels/public/simple/\n",
            "Collecting opendatasets\n",
            "  Downloading opendatasets-0.1.22-py3-none-any.whl (15 kB)\n",
            "Requirement already satisfied: tqdm in /usr/local/lib/python3.8/dist-packages (from opendatasets) (4.64.1)\n",
            "Requirement already satisfied: kaggle in /usr/local/lib/python3.8/dist-packages (from opendatasets) (1.5.12)\n",
            "Requirement already satisfied: click in /usr/local/lib/python3.8/dist-packages (from opendatasets) (7.1.2)\n",
            "Requirement already satisfied: urllib3 in /usr/local/lib/python3.8/dist-packages (from kaggle->opendatasets) (1.24.3)\n",
            "Requirement already satisfied: requests in /usr/local/lib/python3.8/dist-packages (from kaggle->opendatasets) (2.25.1)\n",
            "Requirement already satisfied: python-dateutil in /usr/local/lib/python3.8/dist-packages (from kaggle->opendatasets) (2.8.2)\n",
            "Requirement already satisfied: six>=1.10 in /usr/local/lib/python3.8/dist-packages (from kaggle->opendatasets) (1.15.0)\n",
            "Requirement already satisfied: python-slugify in /usr/local/lib/python3.8/dist-packages (from kaggle->opendatasets) (8.0.0)\n",
            "Requirement already satisfied: certifi in /usr/local/lib/python3.8/dist-packages (from kaggle->opendatasets) (2022.12.7)\n",
            "Requirement already satisfied: text-unidecode>=1.3 in /usr/local/lib/python3.8/dist-packages (from python-slugify->kaggle->opendatasets) (1.3)\n",
            "Requirement already satisfied: idna<3,>=2.5 in /usr/local/lib/python3.8/dist-packages (from requests->kaggle->opendatasets) (2.10)\n",
            "Requirement already satisfied: chardet<5,>=3.0.2 in /usr/local/lib/python3.8/dist-packages (from requests->kaggle->opendatasets) (4.0.0)\n",
            "Installing collected packages: opendatasets\n",
            "Successfully installed opendatasets-0.1.22\n",
            "Looking in indexes: https://pypi.org/simple, https://us-python.pkg.dev/colab-wheels/public/simple/\n",
            "Requirement already satisfied: pandas in /usr/local/lib/python3.8/dist-packages (1.3.5)\n",
            "Requirement already satisfied: numpy>=1.17.3 in /usr/local/lib/python3.8/dist-packages (from pandas) (1.21.6)\n",
            "Requirement already satisfied: pytz>=2017.3 in /usr/local/lib/python3.8/dist-packages (from pandas) (2022.7.1)\n",
            "Requirement already satisfied: python-dateutil>=2.7.3 in /usr/local/lib/python3.8/dist-packages (from pandas) (2.8.2)\n",
            "Requirement already satisfied: six>=1.5 in /usr/local/lib/python3.8/dist-packages (from python-dateutil>=2.7.3->pandas) (1.15.0)\n",
            "Please provide your Kaggle credentials to download this dataset. Learn more: http://bit.ly/kaggle-creds\n",
            "Your Kaggle username: matheusltr\n",
            "Your Kaggle Key: ··········\n",
            "Downloading paysim1.zip to ./paysim1\n"
          ]
        },
        {
          "output_type": "stream",
          "name": "stderr",
          "text": [
            "100%|██████████| 178M/178M [00:01<00:00, 122MB/s]\n"
          ]
        },
        {
          "output_type": "stream",
          "name": "stdout",
          "text": [
            "\n"
          ]
        }
      ]
    },
    {
      "cell_type": "markdown",
      "metadata": {
        "id": "YGNS075GGlH0"
      },
      "source": [
        "### SparkSession\n",
        "Para criar DataFrames, executar consultas SQL, armazenar em cache e ler arquivos utilizamos uma SparkSession, por meio dos seguintes comandos:"
      ]
    },
    {
      "cell_type": "code",
      "execution_count": null,
      "metadata": {
        "id": "yayRGdn_GlH1"
      },
      "outputs": [],
      "source": [
        "# criando sessão SPARK\n",
        "from pyspark.sql import SparkSession\n",
        "\n",
        "spark = SparkSession.builder \\\n",
        "    .master('local[*]') \\\n",
        "    .appName(\"Iniciando com Spark\") \\\n",
        "    .getOrCreate()"
      ]
    },
    {
      "cell_type": "code",
      "execution_count": null,
      "metadata": {
        "id": "PizPNqbmCuSM",
        "colab": {
          "base_uri": "https://localhost:8080/",
          "height": 219
        },
        "outputId": "8c8a3a3e-93b2-4e16-c40a-1da41d4aa845"
      },
      "outputs": [
        {
          "output_type": "execute_result",
          "data": {
            "text/plain": [
              "<pyspark.sql.session.SparkSession at 0x7f9c52e80310>"
            ],
            "text/html": [
              "\n",
              "            <div>\n",
              "                <p><b>SparkSession - in-memory</b></p>\n",
              "                \n",
              "        <div>\n",
              "            <p><b>SparkContext</b></p>\n",
              "\n",
              "            <p><a href=\"http://90060ebe999c:4040\">Spark UI</a></p>\n",
              "\n",
              "            <dl>\n",
              "              <dt>Version</dt>\n",
              "                <dd><code>v3.1.2</code></dd>\n",
              "              <dt>Master</dt>\n",
              "                <dd><code>local[*]</code></dd>\n",
              "              <dt>AppName</dt>\n",
              "                <dd><code>Iniciando com Spark</code></dd>\n",
              "            </dl>\n",
              "        </div>\n",
              "        \n",
              "            </div>\n",
              "        "
            ]
          },
          "metadata": {},
          "execution_count": 8
        }
      ],
      "source": [
        "spark"
      ]
    },
    {
      "cell_type": "markdown",
      "source": [
        "### Leitura dos dados"
      ],
      "metadata": {
        "id": "rcS6EEddZh47"
      }
    },
    {
      "cell_type": "code",
      "execution_count": null,
      "metadata": {
        "id": "3APKGkAlGlH5"
      },
      "outputs": [],
      "source": [
        "# leitura do dataset baixado \n",
        "base = spark.read.csv('/content/paysim1/PS_20174392719_1491204439457_log.csv', header=True)"
      ]
    },
    {
      "cell_type": "code",
      "source": [
        "# verificando a quantidade de registros\n",
        "base.count()"
      ],
      "metadata": {
        "colab": {
          "base_uri": "https://localhost:8080/"
        },
        "id": "sD8abXN28WUp",
        "outputId": "11be446e-56b5-4b03-9b0e-342808fc1f54"
      },
      "execution_count": null,
      "outputs": [
        {
          "output_type": "execute_result",
          "data": {
            "text/plain": [
              "6362620"
            ]
          },
          "metadata": {},
          "execution_count": 60
        }
      ]
    },
    {
      "cell_type": "code",
      "execution_count": null,
      "metadata": {
        "id": "NyBW_ff-JMYs",
        "colab": {
          "base_uri": "https://localhost:8080/",
          "height": 206
        },
        "outputId": "a22b4d64-8ee8-40d2-b53b-ce115bb00a2e"
      },
      "outputs": [
        {
          "output_type": "execute_result",
          "data": {
            "text/plain": [
              "  step      type    amount     nameOrig oldbalanceOrg newbalanceOrig  \\\n",
              "0    1   PAYMENT   9839.64  C1231006815      170136.0      160296.36   \n",
              "1    1   PAYMENT   1864.28  C1666544295       21249.0       19384.72   \n",
              "2    1  TRANSFER     181.0  C1305486145         181.0            0.0   \n",
              "3    1  CASH_OUT     181.0   C840083671         181.0            0.0   \n",
              "4    1   PAYMENT  11668.14  C2048537720       41554.0       29885.86   \n",
              "\n",
              "      nameDest oldbalanceDest newbalanceDest isFraud isFlaggedFraud  \n",
              "0  M1979787155            0.0            0.0       0              0  \n",
              "1  M2044282225            0.0            0.0       0              0  \n",
              "2   C553264065            0.0            0.0       1              0  \n",
              "3    C38997010        21182.0            0.0       1              0  \n",
              "4  M1230701703            0.0            0.0       0              0  "
            ],
            "text/html": [
              "\n",
              "  <div id=\"df-a25869fb-f0c2-474a-b3a1-d79ed0ee1c3b\">\n",
              "    <div class=\"colab-df-container\">\n",
              "      <div>\n",
              "<style scoped>\n",
              "    .dataframe tbody tr th:only-of-type {\n",
              "        vertical-align: middle;\n",
              "    }\n",
              "\n",
              "    .dataframe tbody tr th {\n",
              "        vertical-align: top;\n",
              "    }\n",
              "\n",
              "    .dataframe thead th {\n",
              "        text-align: right;\n",
              "    }\n",
              "</style>\n",
              "<table border=\"1\" class=\"dataframe\">\n",
              "  <thead>\n",
              "    <tr style=\"text-align: right;\">\n",
              "      <th></th>\n",
              "      <th>step</th>\n",
              "      <th>type</th>\n",
              "      <th>amount</th>\n",
              "      <th>nameOrig</th>\n",
              "      <th>oldbalanceOrg</th>\n",
              "      <th>newbalanceOrig</th>\n",
              "      <th>nameDest</th>\n",
              "      <th>oldbalanceDest</th>\n",
              "      <th>newbalanceDest</th>\n",
              "      <th>isFraud</th>\n",
              "      <th>isFlaggedFraud</th>\n",
              "    </tr>\n",
              "  </thead>\n",
              "  <tbody>\n",
              "    <tr>\n",
              "      <th>0</th>\n",
              "      <td>1</td>\n",
              "      <td>PAYMENT</td>\n",
              "      <td>9839.64</td>\n",
              "      <td>C1231006815</td>\n",
              "      <td>170136.0</td>\n",
              "      <td>160296.36</td>\n",
              "      <td>M1979787155</td>\n",
              "      <td>0.0</td>\n",
              "      <td>0.0</td>\n",
              "      <td>0</td>\n",
              "      <td>0</td>\n",
              "    </tr>\n",
              "    <tr>\n",
              "      <th>1</th>\n",
              "      <td>1</td>\n",
              "      <td>PAYMENT</td>\n",
              "      <td>1864.28</td>\n",
              "      <td>C1666544295</td>\n",
              "      <td>21249.0</td>\n",
              "      <td>19384.72</td>\n",
              "      <td>M2044282225</td>\n",
              "      <td>0.0</td>\n",
              "      <td>0.0</td>\n",
              "      <td>0</td>\n",
              "      <td>0</td>\n",
              "    </tr>\n",
              "    <tr>\n",
              "      <th>2</th>\n",
              "      <td>1</td>\n",
              "      <td>TRANSFER</td>\n",
              "      <td>181.0</td>\n",
              "      <td>C1305486145</td>\n",
              "      <td>181.0</td>\n",
              "      <td>0.0</td>\n",
              "      <td>C553264065</td>\n",
              "      <td>0.0</td>\n",
              "      <td>0.0</td>\n",
              "      <td>1</td>\n",
              "      <td>0</td>\n",
              "    </tr>\n",
              "    <tr>\n",
              "      <th>3</th>\n",
              "      <td>1</td>\n",
              "      <td>CASH_OUT</td>\n",
              "      <td>181.0</td>\n",
              "      <td>C840083671</td>\n",
              "      <td>181.0</td>\n",
              "      <td>0.0</td>\n",
              "      <td>C38997010</td>\n",
              "      <td>21182.0</td>\n",
              "      <td>0.0</td>\n",
              "      <td>1</td>\n",
              "      <td>0</td>\n",
              "    </tr>\n",
              "    <tr>\n",
              "      <th>4</th>\n",
              "      <td>1</td>\n",
              "      <td>PAYMENT</td>\n",
              "      <td>11668.14</td>\n",
              "      <td>C2048537720</td>\n",
              "      <td>41554.0</td>\n",
              "      <td>29885.86</td>\n",
              "      <td>M1230701703</td>\n",
              "      <td>0.0</td>\n",
              "      <td>0.0</td>\n",
              "      <td>0</td>\n",
              "      <td>0</td>\n",
              "    </tr>\n",
              "  </tbody>\n",
              "</table>\n",
              "</div>\n",
              "      <button class=\"colab-df-convert\" onclick=\"convertToInteractive('df-a25869fb-f0c2-474a-b3a1-d79ed0ee1c3b')\"\n",
              "              title=\"Convert this dataframe to an interactive table.\"\n",
              "              style=\"display:none;\">\n",
              "        \n",
              "  <svg xmlns=\"http://www.w3.org/2000/svg\" height=\"24px\"viewBox=\"0 0 24 24\"\n",
              "       width=\"24px\">\n",
              "    <path d=\"M0 0h24v24H0V0z\" fill=\"none\"/>\n",
              "    <path d=\"M18.56 5.44l.94 2.06.94-2.06 2.06-.94-2.06-.94-.94-2.06-.94 2.06-2.06.94zm-11 1L8.5 8.5l.94-2.06 2.06-.94-2.06-.94L8.5 2.5l-.94 2.06-2.06.94zm10 10l.94 2.06.94-2.06 2.06-.94-2.06-.94-.94-2.06-.94 2.06-2.06.94z\"/><path d=\"M17.41 7.96l-1.37-1.37c-.4-.4-.92-.59-1.43-.59-.52 0-1.04.2-1.43.59L10.3 9.45l-7.72 7.72c-.78.78-.78 2.05 0 2.83L4 21.41c.39.39.9.59 1.41.59.51 0 1.02-.2 1.41-.59l7.78-7.78 2.81-2.81c.8-.78.8-2.07 0-2.86zM5.41 20L4 18.59l7.72-7.72 1.47 1.35L5.41 20z\"/>\n",
              "  </svg>\n",
              "      </button>\n",
              "      \n",
              "  <style>\n",
              "    .colab-df-container {\n",
              "      display:flex;\n",
              "      flex-wrap:wrap;\n",
              "      gap: 12px;\n",
              "    }\n",
              "\n",
              "    .colab-df-convert {\n",
              "      background-color: #E8F0FE;\n",
              "      border: none;\n",
              "      border-radius: 50%;\n",
              "      cursor: pointer;\n",
              "      display: none;\n",
              "      fill: #1967D2;\n",
              "      height: 32px;\n",
              "      padding: 0 0 0 0;\n",
              "      width: 32px;\n",
              "    }\n",
              "\n",
              "    .colab-df-convert:hover {\n",
              "      background-color: #E2EBFA;\n",
              "      box-shadow: 0px 1px 2px rgba(60, 64, 67, 0.3), 0px 1px 3px 1px rgba(60, 64, 67, 0.15);\n",
              "      fill: #174EA6;\n",
              "    }\n",
              "\n",
              "    [theme=dark] .colab-df-convert {\n",
              "      background-color: #3B4455;\n",
              "      fill: #D2E3FC;\n",
              "    }\n",
              "\n",
              "    [theme=dark] .colab-df-convert:hover {\n",
              "      background-color: #434B5C;\n",
              "      box-shadow: 0px 1px 3px 1px rgba(0, 0, 0, 0.15);\n",
              "      filter: drop-shadow(0px 1px 2px rgba(0, 0, 0, 0.3));\n",
              "      fill: #FFFFFF;\n",
              "    }\n",
              "  </style>\n",
              "\n",
              "      <script>\n",
              "        const buttonEl =\n",
              "          document.querySelector('#df-a25869fb-f0c2-474a-b3a1-d79ed0ee1c3b button.colab-df-convert');\n",
              "        buttonEl.style.display =\n",
              "          google.colab.kernel.accessAllowed ? 'block' : 'none';\n",
              "\n",
              "        async function convertToInteractive(key) {\n",
              "          const element = document.querySelector('#df-a25869fb-f0c2-474a-b3a1-d79ed0ee1c3b');\n",
              "          const dataTable =\n",
              "            await google.colab.kernel.invokeFunction('convertToInteractive',\n",
              "                                                     [key], {});\n",
              "          if (!dataTable) return;\n",
              "\n",
              "          const docLinkHtml = 'Like what you see? Visit the ' +\n",
              "            '<a target=\"_blank\" href=https://colab.research.google.com/notebooks/data_table.ipynb>data table notebook</a>'\n",
              "            + ' to learn more about interactive tables.';\n",
              "          element.innerHTML = '';\n",
              "          dataTable['output_type'] = 'display_data';\n",
              "          await google.colab.output.renderOutput(dataTable, element);\n",
              "          const docLink = document.createElement('div');\n",
              "          docLink.innerHTML = docLinkHtml;\n",
              "          element.appendChild(docLink);\n",
              "        }\n",
              "      </script>\n",
              "    </div>\n",
              "  </div>\n",
              "  "
            ]
          },
          "metadata": {},
          "execution_count": 10
        }
      ],
      "source": [
        "# visualizando a base de dados\n",
        "base.limit(5).toPandas()"
      ]
    },
    {
      "cell_type": "markdown",
      "metadata": {
        "id": "yyeUU1CsGlH9"
      },
      "source": [
        "# Pré-processamento dos dados\n",
        "---"
      ]
    },
    {
      "cell_type": "markdown",
      "metadata": {
        "id": "EnibIqSUGlH_"
      },
      "source": [
        "\n",
        "### Analisando os tipos dos dados"
      ]
    },
    {
      "cell_type": "code",
      "execution_count": null,
      "metadata": {
        "id": "7BCEdVduXqLP",
        "colab": {
          "base_uri": "https://localhost:8080/"
        },
        "outputId": "51393193-9f22-439b-9929-107ae49a73e4"
      },
      "outputs": [
        {
          "output_type": "stream",
          "name": "stdout",
          "text": [
            "root\n",
            " |-- step: string (nullable = true)\n",
            " |-- type: string (nullable = true)\n",
            " |-- amount: string (nullable = true)\n",
            " |-- nameOrig: string (nullable = true)\n",
            " |-- oldbalanceOrg: string (nullable = true)\n",
            " |-- newbalanceOrig: string (nullable = true)\n",
            " |-- nameDest: string (nullable = true)\n",
            " |-- oldbalanceDest: string (nullable = true)\n",
            " |-- newbalanceDest: string (nullable = true)\n",
            " |-- isFraud: string (nullable = true)\n",
            " |-- isFlaggedFraud: string (nullable = true)\n",
            "\n"
          ]
        }
      ],
      "source": [
        "# verificando os tipos de dados dos atributos\n",
        "base.printSchema()"
      ]
    },
    {
      "cell_type": "markdown",
      "source": [
        "### Modificando os tipos de dados"
      ],
      "metadata": {
        "id": "ePlR3FkLObG-"
      }
    },
    {
      "cell_type": "code",
      "execution_count": null,
      "metadata": {
        "id": "aocivOoxGlIA"
      },
      "outputs": [],
      "source": [
        "# importando bibliotecas para conversão de tipos de dados\n",
        "from pyspark.sql.types import IntegerType, DoubleType"
      ]
    },
    {
      "cell_type": "code",
      "execution_count": null,
      "metadata": {
        "id": "CNQJP7E6UsGC"
      },
      "outputs": [],
      "source": [
        "# convertendo os tipos de dados para numéricos\n",
        "base = base\\\n",
        "  .withColumn('step', base['step'].cast(IntegerType()))\\\n",
        "  .withColumn('amount', base['amount'].cast(DoubleType()))\\\n",
        "  .withColumn('oldbalanceOrg', base['oldbalanceOrg'].cast(DoubleType()))\\\n",
        "  .withColumn('newbalanceOrig', base['newbalanceOrig'].cast(DoubleType()))\\\n",
        "  .withColumn('oldbalanceDest', base['oldbalanceDest'].cast(DoubleType()))\\\n",
        "  .withColumn('newbalanceDest', base['newbalanceDest'].cast(DoubleType()))\\\n",
        "  .withColumn('isFraud', base['isFraud'].cast(IntegerType()))\\\n",
        "  .withColumn('isFlaggedFraud', base['isFlaggedFraud'].cast(IntegerType()))"
      ]
    },
    {
      "cell_type": "code",
      "execution_count": null,
      "metadata": {
        "id": "xUXixnpzZPQe",
        "colab": {
          "base_uri": "https://localhost:8080/"
        },
        "outputId": "012a18ee-28c8-4c9f-c1e4-5b69c6316fc0"
      },
      "outputs": [
        {
          "output_type": "stream",
          "name": "stdout",
          "text": [
            "root\n",
            " |-- step: integer (nullable = true)\n",
            " |-- type: string (nullable = true)\n",
            " |-- amount: double (nullable = true)\n",
            " |-- nameOrig: string (nullable = true)\n",
            " |-- oldbalanceOrg: double (nullable = true)\n",
            " |-- newbalanceOrig: double (nullable = true)\n",
            " |-- nameDest: string (nullable = true)\n",
            " |-- oldbalanceDest: double (nullable = true)\n",
            " |-- newbalanceDest: double (nullable = true)\n",
            " |-- isFraud: integer (nullable = true)\n",
            " |-- isFlaggedFraud: integer (nullable = true)\n",
            "\n"
          ]
        }
      ],
      "source": [
        "# visualizando os tipos de dados após conversão\n",
        "base.printSchema()"
      ]
    },
    {
      "cell_type": "code",
      "execution_count": null,
      "metadata": {
        "id": "43jdqE5gGlIA",
        "colab": {
          "base_uri": "https://localhost:8080/"
        },
        "outputId": "0f54894f-8b4a-4b90-8869-2f72c32296ec"
      },
      "outputs": [
        {
          "output_type": "stream",
          "name": "stdout",
          "text": [
            "+----+--------+---------+-----------+-------------+--------------+-----------+--------------+--------------+-------+--------------+\n",
            "|step|    type|   amount|   nameOrig|oldbalanceOrg|newbalanceOrig|   nameDest|oldbalanceDest|newbalanceDest|isFraud|isFlaggedFraud|\n",
            "+----+--------+---------+-----------+-------------+--------------+-----------+--------------+--------------+-------+--------------+\n",
            "|   1| PAYMENT|  9839.64|C1231006815|     170136.0|     160296.36|M1979787155|           0.0|           0.0|      0|             0|\n",
            "|   1| PAYMENT|  1864.28|C1666544295|      21249.0|      19384.72|M2044282225|           0.0|           0.0|      0|             0|\n",
            "|   1|TRANSFER|    181.0|C1305486145|        181.0|           0.0| C553264065|           0.0|           0.0|      1|             0|\n",
            "|   1|CASH_OUT|    181.0| C840083671|        181.0|           0.0|  C38997010|       21182.0|           0.0|      1|             0|\n",
            "|   1| PAYMENT| 11668.14|C2048537720|      41554.0|      29885.86|M1230701703|           0.0|           0.0|      0|             0|\n",
            "|   1| PAYMENT|  7817.71|  C90045638|      53860.0|      46042.29| M573487274|           0.0|           0.0|      0|             0|\n",
            "|   1| PAYMENT|  7107.77| C154988899|     183195.0|     176087.23| M408069119|           0.0|           0.0|      0|             0|\n",
            "|   1| PAYMENT|  7861.64|C1912850431|    176087.23|     168225.59| M633326333|           0.0|           0.0|      0|             0|\n",
            "|   1| PAYMENT|  4024.36|C1265012928|       2671.0|           0.0|M1176932104|           0.0|           0.0|      0|             0|\n",
            "|   1|   DEBIT|  5337.77| C712410124|      41720.0|      36382.23| C195600860|       41898.0|      40348.79|      0|             0|\n",
            "|   1|   DEBIT|  9644.94|C1900366749|       4465.0|           0.0| C997608398|       10845.0|     157982.12|      0|             0|\n",
            "|   1| PAYMENT|  3099.97| C249177573|      20771.0|      17671.03|M2096539129|           0.0|           0.0|      0|             0|\n",
            "|   1| PAYMENT|  2560.74|C1648232591|       5070.0|       2509.26| M972865270|           0.0|           0.0|      0|             0|\n",
            "|   1| PAYMENT| 11633.76|C1716932897|      10127.0|           0.0| M801569151|           0.0|           0.0|      0|             0|\n",
            "|   1| PAYMENT|  4098.78|C1026483832|     503264.0|     499165.22|M1635378213|           0.0|           0.0|      0|             0|\n",
            "|   1|CASH_OUT|229133.94| C905080434|      15325.0|           0.0| C476402209|        5083.0|      51513.44|      0|             0|\n",
            "|   1| PAYMENT|  1563.82| C761750706|        450.0|           0.0|M1731217984|           0.0|           0.0|      0|             0|\n",
            "|   1| PAYMENT|  1157.86|C1237762639|      21156.0|      19998.14|M1877062907|           0.0|           0.0|      0|             0|\n",
            "|   1| PAYMENT|   671.64|C2033524545|      15123.0|      14451.36| M473053293|           0.0|           0.0|      0|             0|\n",
            "|   1|TRANSFER| 215310.3|C1670993182|        705.0|           0.0|C1100439041|       22425.0|           0.0|      0|             0|\n",
            "+----+--------+---------+-----------+-------------+--------------+-----------+--------------+--------------+-------+--------------+\n",
            "only showing top 20 rows\n",
            "\n"
          ]
        }
      ],
      "source": [
        "# visualizando base de dados\n",
        "base.show()"
      ]
    },
    {
      "cell_type": "markdown",
      "metadata": {
        "id": "DeMk86UGhZvc"
      },
      "source": [
        "### Verificando transações marcadas como fraudes"
      ]
    },
    {
      "cell_type": "code",
      "execution_count": null,
      "metadata": {
        "id": "Y6ZHVYBHjPa5",
        "colab": {
          "base_uri": "https://localhost:8080/"
        },
        "outputId": "5d848ed0-5f96-4917-84f2-689c85f7cbb8"
      },
      "outputs": [
        {
          "output_type": "execute_result",
          "data": {
            "text/plain": [
              "8213"
            ]
          },
          "metadata": {},
          "execution_count": 16
        }
      ],
      "source": [
        "# quantidade de transações como fraude\n",
        "base.where('isFraud==1').count()"
      ]
    },
    {
      "cell_type": "code",
      "source": [
        "# percentual de transações que são fraudes\n",
        "(base.where('isFraud==1').count() / base.count())*100"
      ],
      "metadata": {
        "colab": {
          "base_uri": "https://localhost:8080/"
        },
        "id": "xgIhErTCg3qe",
        "outputId": "fedbbc1e-540c-4c7e-bd50-187dc9ac7d1d"
      },
      "execution_count": null,
      "outputs": [
        {
          "output_type": "execute_result",
          "data": {
            "text/plain": [
              "0.12908204481801522"
            ]
          },
          "metadata": {},
          "execution_count": 43
        }
      ]
    },
    {
      "cell_type": "markdown",
      "metadata": {
        "id": "ge7vmWujGlIK"
      },
      "source": [
        "## Transformação dos dados\n"
      ]
    },
    {
      "cell_type": "code",
      "execution_count": null,
      "metadata": {
        "id": "qd14cXcto9za",
        "colab": {
          "base_uri": "https://localhost:8080/"
        },
        "outputId": "55826a65-08a5-4c38-f743-28894a89e66a"
      },
      "outputs": [
        {
          "output_type": "stream",
          "name": "stdout",
          "text": [
            "+-----------+-------+--------+-----+-------+--------+\n",
            "|   nameOrig|CASH_IN|CASH_OUT|DEBIT|PAYMENT|TRANSFER|\n",
            "+-----------+-------+--------+-----+-------+--------+\n",
            "|C1298557761|      0|       0|    0|      1|       0|\n",
            "| C842031308|      0|       1|    0|      0|       0|\n",
            "|C1398324588|      1|       0|    0|      0|       0|\n",
            "| C971397568|      0|       0|    0|      1|       0|\n",
            "| C539524487|      0|       1|    0|      0|       0|\n",
            "| C314630213|      1|       0|    0|      0|       0|\n",
            "|C1418400884|      0|       0|    0|      1|       0|\n",
            "| C500869003|      0|       1|    0|      0|       0|\n",
            "|C1427037170|      0|       1|    0|      0|       0|\n",
            "|C1085818726|      0|       0|    0|      0|       1|\n",
            "|C1658939450|      1|       0|    0|      0|       0|\n",
            "| C187908769|      0|       0|    0|      1|       0|\n",
            "| C481022227|      0|       0|    0|      1|       0|\n",
            "|C1927868514|      0|       1|    0|      0|       0|\n",
            "| C625817784|      0|       0|    0|      1|       0|\n",
            "|C1476003646|      0|       1|    0|      0|       0|\n",
            "| C961061306|      0|       0|    0|      1|       0|\n",
            "|C1155493569|      1|       0|    0|      0|       0|\n",
            "|C2030533760|      1|       0|    0|      0|       0|\n",
            "| C184077346|      1|       0|    0|      0|       0|\n",
            "+-----------+-------+--------+-----+-------+--------+\n",
            "only showing top 20 rows\n",
            "\n"
          ]
        }
      ],
      "source": [
        "# importando biblioteca para consultas na base\n",
        "from pyspark.sql import functions as f\n",
        "base.groupBy('nameOrig').pivot('type').agg(f.lit(1)).na.fill(0).show()"
      ]
    },
    {
      "cell_type": "code",
      "execution_count": null,
      "metadata": {
        "id": "ZysCHmzicRo4"
      },
      "outputs": [],
      "source": [
        "# transformação de dados multicategóricos em atributos\n",
        "base_processada = base.groupBy('nameOrig').pivot('type').agg(f.lit(1)).na.fill(0)"
      ]
    },
    {
      "cell_type": "code",
      "source": [
        "# junção de base transformada com a base original\n",
        "base_processada = base.join(base_processada, 'nameOrig', how='inner')"
      ],
      "metadata": {
        "id": "ZuriKp8TFI_h"
      },
      "execution_count": null,
      "outputs": []
    },
    {
      "cell_type": "code",
      "source": [
        "# visualizando base de dados após transformação de dados multicategóricos em atributos\n",
        "base_processada.show()"
      ],
      "metadata": {
        "colab": {
          "base_uri": "https://localhost:8080/"
        },
        "id": "ygfDFgLmFplX",
        "outputId": "715f9951-db30-4ea0-b5f9-ab0df1a168d8"
      },
      "execution_count": null,
      "outputs": [
        {
          "output_type": "stream",
          "name": "stdout",
          "text": [
            "+-----------+----+--------+---------+-------------+--------------+-----------+--------------+--------------+-----+--------------+-------+--------+-----+-------+--------+\n",
            "|   nameOrig|step|    type|   amount|oldbalanceOrg|newbalanceOrig|   nameDest|oldbalanceDest|newbalanceDest|label|isFlaggedFraud|CASH_IN|CASH_OUT|DEBIT|PAYMENT|TRANSFER|\n",
            "+-----------+----+--------+---------+-------------+--------------+-----------+--------------+--------------+-----+--------------+-------+--------+-----+-------+--------+\n",
            "|C1000031397| 259|CASH_OUT|163976.41|          0.0|           0.0|C1030970900|    2281442.13|    2445418.54|    0|             0|      0|       1|    0|      0|       0|\n",
            "|C1000050727| 354|CASH_OUT| 33110.41|          0.0|           0.0|C1183531360|     370166.97|     403277.38|    0|             0|      0|       1|    0|      0|       0|\n",
            "|C1000138136| 166|TRANSFER|361405.04|          0.0|           0.0|C1794058350|     846606.36|     1208011.4|    0|             0|      0|       0|    0|      0|       1|\n",
            "| C100021340|  37|CASH_OUT| 66504.79|      23758.0|           0.0|C1711920602|           0.0|           0.0|    0|             0|      0|       1|    0|      0|       0|\n",
            "|C1000243850| 206|CASH_OUT| 42775.53|     27479.54|           0.0|C2110337370|     176190.97|      218966.5|    0|             0|      0|       1|    0|      0|       0|\n",
            "|C1000262126|  14| CASH_IN|119260.86|    183746.92|     303007.78|C1758078892|           0.0|           0.0|    0|             0|      1|       0|    0|      0|       0|\n",
            "|C1000421987| 189| CASH_IN| 81861.65|   1526816.76|    1608678.41|C1426229596|     130301.88|      48440.23|    0|             0|      1|       0|    0|      0|       0|\n",
            "|C1000502024| 130| PAYMENT| 10044.99|          0.0|           0.0|M1896466681|           0.0|           0.0|    0|             0|      0|       0|    0|      1|       0|\n",
            "|C1000505956| 326|CASH_OUT|127684.32|          0.0|           0.0| C862557760|     275025.22|     402709.54|    0|             0|      0|       1|    0|      0|       0|\n",
            "|C1000507192|  34|CASH_OUT| 19513.74|          0.0|           0.0|  C79598132|      76965.66|       96479.4|    0|             0|      0|       1|    0|      0|       0|\n",
            "|C1000543801| 305|TRANSFER| 739233.0|          0.0|           0.0|  C18762550|     874103.22|    1613336.22|    0|             0|      0|       0|    0|      0|       1|\n",
            "|C1000547990|  35| CASH_IN| 87429.03|    323732.09|     411161.12| C193538068|     154120.81|      66691.78|    0|             0|      1|       0|    0|      0|       0|\n",
            "|C1000570608| 134|CASH_OUT|194761.41|      25928.0|           0.0| C559090533|           0.0|     194761.41|    0|             0|      0|       1|    0|      0|       0|\n",
            "|C1000705854| 205| PAYMENT| 31285.98|          0.0|           0.0|M1730280179|           0.0|           0.0|    0|             0|      0|       0|    0|      1|       0|\n",
            "|C1000809646| 140| CASH_IN|226459.37|1.013311461E7| 1.035957398E7|C1289017934|    1367098.67|     1140639.3|    0|             0|      1|       0|    0|      0|       0|\n",
            "|C1000822687| 235|CASH_OUT|153930.88|    190053.12|      36122.24| C374173706|     155303.84|     309234.72|    0|             0|      0|       1|    0|      0|       0|\n",
            "|C1000837891| 379| CASH_IN| 44135.15|     700259.0|     744394.15|C1617943467|     135753.58|      91618.43|    0|             0|      1|       0|    0|      0|       0|\n",
            "|C1000862103| 379| CASH_IN|249399.86|   4546242.21|    4795642.07| C378605191|     299411.91|      50012.05|    0|             0|      1|       0|    0|      0|       0|\n",
            "|C1000889958| 596| CASH_IN|322687.86|   5550248.01|    5872935.87|C1345902553|     350481.09|      27793.23|    0|             0|      1|       0|    0|      0|       0|\n",
            "|C1000891641| 420|CASH_OUT|241341.36|          0.0|           0.0|C1980439000|     724286.24|     965627.59|    0|             0|      0|       1|    0|      0|       0|\n",
            "+-----------+----+--------+---------+-------------+--------------+-----------+--------------+--------------+-----+--------------+-------+--------+-----+-------+--------+\n",
            "only showing top 20 rows\n",
            "\n"
          ]
        }
      ]
    },
    {
      "cell_type": "code",
      "source": [
        "# visualizando tipos de dados após junção\n",
        "base_processada.printSchema()"
      ],
      "metadata": {
        "colab": {
          "base_uri": "https://localhost:8080/"
        },
        "id": "EFfwwrHoYea5",
        "outputId": "1dde4db6-49ad-4567-97e5-7433026843d8"
      },
      "execution_count": null,
      "outputs": [
        {
          "output_type": "stream",
          "name": "stdout",
          "text": [
            "root\n",
            " |-- nameOrig: string (nullable = true)\n",
            " |-- step: integer (nullable = true)\n",
            " |-- type: string (nullable = true)\n",
            " |-- amount: double (nullable = true)\n",
            " |-- oldbalanceOrg: double (nullable = true)\n",
            " |-- newbalanceOrig: double (nullable = true)\n",
            " |-- nameDest: string (nullable = true)\n",
            " |-- oldbalanceDest: double (nullable = true)\n",
            " |-- newbalanceDest: double (nullable = true)\n",
            " |-- isFraud: integer (nullable = true)\n",
            " |-- isFlaggedFraud: integer (nullable = true)\n",
            " |-- CASH_IN: integer (nullable = true)\n",
            " |-- CASH_OUT: integer (nullable = true)\n",
            " |-- DEBIT: integer (nullable = true)\n",
            " |-- PAYMENT: integer (nullable = true)\n",
            " |-- TRANSFER: integer (nullable = true)\n",
            "\n"
          ]
        }
      ]
    },
    {
      "cell_type": "markdown",
      "metadata": {
        "id": "UYsfCfudGlIK"
      },
      "source": [
        "## Seleção dos atributos\n",
        "Vamos escolher quais atributos serão utilizados pelo modelo preditivo criando um vetor com os dados de interesse\n"
      ]
    },
    {
      "cell_type": "code",
      "execution_count": null,
      "metadata": {
        "id": "p3lGYb4qRVz3"
      },
      "outputs": [],
      "source": [
        "# importanto biblioteca para criar vetor com os atributos de intesse\n",
        "from pyspark.ml.feature import VectorAssembler"
      ]
    },
    {
      "cell_type": "code",
      "execution_count": null,
      "metadata": {
        "id": "i6Tv9DelGlIL",
        "colab": {
          "base_uri": "https://localhost:8080/"
        },
        "outputId": "78f94803-c9a2-4154-a90e-13c213c633a9"
      },
      "outputs": [
        {
          "output_type": "stream",
          "name": "stdout",
          "text": [
            "+-----------+----+--------+---------+-------------+--------------+-----------+--------------+--------------+-----+--------------+-------+--------+-----+-------+--------+\n",
            "|   nameOrig|step|    type|   amount|oldbalanceOrg|newbalanceOrig|   nameDest|oldbalanceDest|newbalanceDest|label|isFlaggedFraud|CASH_IN|CASH_OUT|DEBIT|PAYMENT|TRANSFER|\n",
            "+-----------+----+--------+---------+-------------+--------------+-----------+--------------+--------------+-----+--------------+-------+--------+-----+-------+--------+\n",
            "|C1000031397| 259|CASH_OUT|163976.41|          0.0|           0.0|C1030970900|    2281442.13|    2445418.54|    0|             0|      0|       1|    0|      0|       0|\n",
            "|C1000050727| 354|CASH_OUT| 33110.41|          0.0|           0.0|C1183531360|     370166.97|     403277.38|    0|             0|      0|       1|    0|      0|       0|\n",
            "|C1000138136| 166|TRANSFER|361405.04|          0.0|           0.0|C1794058350|     846606.36|     1208011.4|    0|             0|      0|       0|    0|      0|       1|\n",
            "| C100021340|  37|CASH_OUT| 66504.79|      23758.0|           0.0|C1711920602|           0.0|           0.0|    0|             0|      0|       1|    0|      0|       0|\n",
            "|C1000243850| 206|CASH_OUT| 42775.53|     27479.54|           0.0|C2110337370|     176190.97|      218966.5|    0|             0|      0|       1|    0|      0|       0|\n",
            "|C1000262126|  14| CASH_IN|119260.86|    183746.92|     303007.78|C1758078892|           0.0|           0.0|    0|             0|      1|       0|    0|      0|       0|\n",
            "|C1000421987| 189| CASH_IN| 81861.65|   1526816.76|    1608678.41|C1426229596|     130301.88|      48440.23|    0|             0|      1|       0|    0|      0|       0|\n",
            "|C1000502024| 130| PAYMENT| 10044.99|          0.0|           0.0|M1896466681|           0.0|           0.0|    0|             0|      0|       0|    0|      1|       0|\n",
            "|C1000505956| 326|CASH_OUT|127684.32|          0.0|           0.0| C862557760|     275025.22|     402709.54|    0|             0|      0|       1|    0|      0|       0|\n",
            "|C1000507192|  34|CASH_OUT| 19513.74|          0.0|           0.0|  C79598132|      76965.66|       96479.4|    0|             0|      0|       1|    0|      0|       0|\n",
            "|C1000543801| 305|TRANSFER| 739233.0|          0.0|           0.0|  C18762550|     874103.22|    1613336.22|    0|             0|      0|       0|    0|      0|       1|\n",
            "|C1000547990|  35| CASH_IN| 87429.03|    323732.09|     411161.12| C193538068|     154120.81|      66691.78|    0|             0|      1|       0|    0|      0|       0|\n",
            "|C1000570608| 134|CASH_OUT|194761.41|      25928.0|           0.0| C559090533|           0.0|     194761.41|    0|             0|      0|       1|    0|      0|       0|\n",
            "|C1000705854| 205| PAYMENT| 31285.98|          0.0|           0.0|M1730280179|           0.0|           0.0|    0|             0|      0|       0|    0|      1|       0|\n",
            "|C1000809646| 140| CASH_IN|226459.37|1.013311461E7| 1.035957398E7|C1289017934|    1367098.67|     1140639.3|    0|             0|      1|       0|    0|      0|       0|\n",
            "|C1000822687| 235|CASH_OUT|153930.88|    190053.12|      36122.24| C374173706|     155303.84|     309234.72|    0|             0|      0|       1|    0|      0|       0|\n",
            "|C1000837891| 379| CASH_IN| 44135.15|     700259.0|     744394.15|C1617943467|     135753.58|      91618.43|    0|             0|      1|       0|    0|      0|       0|\n",
            "|C1000862103| 379| CASH_IN|249399.86|   4546242.21|    4795642.07| C378605191|     299411.91|      50012.05|    0|             0|      1|       0|    0|      0|       0|\n",
            "|C1000889958| 596| CASH_IN|322687.86|   5550248.01|    5872935.87|C1345902553|     350481.09|      27793.23|    0|             0|      1|       0|    0|      0|       0|\n",
            "|C1000891641| 420|CASH_OUT|241341.36|          0.0|           0.0|C1980439000|     724286.24|     965627.59|    0|             0|      0|       1|    0|      0|       0|\n",
            "+-----------+----+--------+---------+-------------+--------------+-----------+--------------+--------------+-----+--------------+-------+--------+-----+-------+--------+\n",
            "only showing top 20 rows\n",
            "\n"
          ]
        }
      ],
      "source": [
        "# especificando atributo de interesse \n",
        "base_processada = base_processada.withColumnRenamed('isFraud', 'label')\n",
        "base_processada.show()"
      ]
    },
    {
      "cell_type": "code",
      "execution_count": null,
      "metadata": {
        "id": "zFAQ-XlHScMr"
      },
      "outputs": [],
      "source": [
        "# criando vetor com atributos de interesse\n",
        "X = [\n",
        "    'step',\n",
        "    'amount',\n",
        "     'oldbalanceOrg',\n",
        "     'newbalanceOrig',\n",
        "     'oldbalanceDest',\n",
        "     'newbalanceDest',\n",
        "     'isFlaggedFraud',\n",
        "     'CASH_IN',\n",
        "     'CASH_OUT',\n",
        "     'DEBIT',\n",
        "     'PAYMENT',\n",
        "     'TRANSFER'\n",
        "]"
      ]
    },
    {
      "cell_type": "code",
      "source": [
        "assembler = VectorAssembler(inputCols = X, outputCol= 'features')"
      ],
      "metadata": {
        "id": "M803933CKugm"
      },
      "execution_count": null,
      "outputs": []
    },
    {
      "cell_type": "code",
      "execution_count": null,
      "metadata": {
        "id": "dveTyKd1VitH"
      },
      "outputs": [],
      "source": [
        "base_prep = assembler.transform(base_processada).select('features', 'label')"
      ]
    },
    {
      "cell_type": "markdown",
      "source": [
        "# Modelagem\n",
        "---\n"
      ],
      "metadata": {
        "id": "PMtc0Nk2dSaS"
      }
    },
    {
      "cell_type": "markdown",
      "source": [
        "## Regressão linear\n",
        "Vamos utilizar a biblioteca de regressão linear para criação do modelo preditivo"
      ],
      "metadata": {
        "id": "-CxJU-DhtyGZ"
      }
    },
    {
      "cell_type": "code",
      "source": [
        "# importando biblioteca para regressão linear\n",
        "from pyspark.ml.regression import LinearRegression"
      ],
      "metadata": {
        "id": "miLOjNSvdc7y"
      },
      "execution_count": null,
      "outputs": []
    },
    {
      "cell_type": "markdown",
      "source": [
        "### Divisão em treino e teste"
      ],
      "metadata": {
        "id": "MlK1rfe4toCO"
      }
    },
    {
      "cell_type": "code",
      "source": [
        "# divindo os dados em treino e teste\n",
        "treino, teste = base_prep.randomSplit([0.7, 0.3])"
      ],
      "metadata": {
        "id": "othYWHLtdkyo"
      },
      "execution_count": null,
      "outputs": []
    },
    {
      "cell_type": "code",
      "source": [
        "# quantidade de dados de treino\n",
        "treino.count()"
      ],
      "metadata": {
        "colab": {
          "base_uri": "https://localhost:8080/"
        },
        "id": "5tz-vAGRdpQ1",
        "outputId": "a4bc142f-15f7-48d1-8012-03ab3bf468e7"
      },
      "execution_count": null,
      "outputs": [
        {
          "output_type": "execute_result",
          "data": {
            "text/plain": [
              "4453616"
            ]
          },
          "metadata": {},
          "execution_count": 31
        }
      ]
    },
    {
      "cell_type": "code",
      "source": [
        "# quantidade de dados de teste\n",
        "teste.count()"
      ],
      "metadata": {
        "colab": {
          "base_uri": "https://localhost:8080/"
        },
        "id": "yK4xigAqdysP",
        "outputId": "ec826cab-41b2-4598-8202-aa394a92ea8c"
      },
      "execution_count": null,
      "outputs": [
        {
          "output_type": "execute_result",
          "data": {
            "text/plain": [
              "1909004"
            ]
          },
          "metadata": {},
          "execution_count": 32
        }
      ]
    },
    {
      "cell_type": "code",
      "source": [
        "lr = LinearRegression()"
      ],
      "metadata": {
        "id": "-nXQIDJ0d0Oo"
      },
      "execution_count": null,
      "outputs": []
    },
    {
      "cell_type": "markdown",
      "source": [
        "### Ajuste do modelo"
      ],
      "metadata": {
        "id": "5ULe3nvuuCt3"
      }
    },
    {
      "cell_type": "code",
      "source": [
        "# ajustando o modelo com os dados de treino\n",
        "modelo_lr = lr.fit(treino)"
      ],
      "metadata": {
        "id": "y20NDLSbd4sS"
      },
      "execution_count": null,
      "outputs": []
    },
    {
      "cell_type": "code",
      "source": [
        "previsoes_lr_treino = modelo_lr.transform(treino)"
      ],
      "metadata": {
        "id": "jm5lfPCad-GP"
      },
      "execution_count": null,
      "outputs": []
    },
    {
      "cell_type": "code",
      "source": [
        "# visualizando as previsões do modelo\n",
        "previsoes_lr_treino.show()"
      ],
      "metadata": {
        "colab": {
          "base_uri": "https://localhost:8080/"
        },
        "id": "Hn5aG_6EeGFN",
        "outputId": "2fa39c3e-39d5-4955-c8d4-06b0dc9c847b"
      },
      "execution_count": null,
      "outputs": [
        {
          "output_type": "stream",
          "name": "stdout",
          "text": [
            "+--------------------+-----+--------------------+\n",
            "|            features|label|          prediction|\n",
            "+--------------------+-----+--------------------+\n",
            "|(12,[0,1,2,3,4,7]...|    0| 0.01054989926520365|\n",
            "|(12,[0,1,2,3,4,7]...|    0|0.016155999954652715|\n",
            "|(12,[0,1,2,3,4,7]...|    0|0.015396075372486925|\n",
            "|(12,[0,1,2,3,4,7]...|    0|8.732547056276956E-4|\n",
            "|(12,[0,1,2,3,4,7]...|    0|1.045830946912948...|\n",
            "|(12,[0,1,2,3,4,7]...|    0|6.036457589161069E-4|\n",
            "|(12,[0,1,2,3,4,7]...|    0|-0.01387746686487...|\n",
            "|(12,[0,1,2,3,4,7]...|    0|0.010239443055382207|\n",
            "|(12,[0,1,2,3,4,7]...|    0|-0.00499557676461...|\n",
            "|(12,[0,1,2,3,4,7]...|    0|-0.02060984695768...|\n",
            "|(12,[0,1,2,3,4,7]...|    0|-0.03511721580321611|\n",
            "|(12,[0,1,2,3,4,7]...|    0|0.013970108089142712|\n",
            "|(12,[0,1,2,3,4,7]...|    0|-0.04890715961478442|\n",
            "|(12,[0,1,2,3,4,7]...|    0|0.012866943648059764|\n",
            "|(12,[0,1,2,3,4,7]...|    0|0.011274234117390338|\n",
            "|(12,[0,1,2,3,4,7]...|    0| 0.01004587468401701|\n",
            "|(12,[0,1,2,3,4,7]...|    0|-0.01287301225958...|\n",
            "|(12,[0,1,2,3,4,7]...|    0|-0.01398692697953...|\n",
            "|(12,[0,1,2,3,4,7]...|    0|-0.01345329799896...|\n",
            "|(12,[0,1,2,3,4,7]...|    0|-0.05366875134968342|\n",
            "+--------------------+-----+--------------------+\n",
            "only showing top 20 rows\n",
            "\n"
          ]
        }
      ]
    },
    {
      "cell_type": "markdown",
      "source": [
        "## Árvore de Decisão"
      ],
      "metadata": {
        "id": "0RFzpivywHCo"
      }
    },
    {
      "cell_type": "code",
      "source": [
        "# importando biblioteca para árvore de decisão\n",
        "from pyspark.ml.regression import DecisionTreeRegressor"
      ],
      "metadata": {
        "id": "GXboUiSSwVX2"
      },
      "execution_count": null,
      "outputs": []
    },
    {
      "cell_type": "code",
      "source": [
        "dtr = DecisionTreeRegressor(seed=191, maxDepth=7)"
      ],
      "metadata": {
        "id": "be8YAnTIxo7I"
      },
      "execution_count": null,
      "outputs": []
    },
    {
      "cell_type": "markdown",
      "source": [
        "### Ajuste do modelo"
      ],
      "metadata": {
        "id": "c0DZum696Tqr"
      }
    },
    {
      "cell_type": "code",
      "source": [
        "# ajustando o modelo com os dados de treino\n",
        "odelo_dtr = dtr.fit(treino)"
      ],
      "metadata": {
        "id": "ows0LEXVxw5d"
      },
      "execution_count": null,
      "outputs": []
    },
    {
      "cell_type": "code",
      "source": [
        "previsoes_dtr_treino = modelo_dtr.transform(treino)"
      ],
      "metadata": {
        "id": "lRq7FydTx2fv"
      },
      "execution_count": null,
      "outputs": []
    },
    {
      "cell_type": "code",
      "source": [
        "# visualizando as previsões do modelo\n",
        "previsoes_dtr_treino.show()"
      ],
      "metadata": {
        "colab": {
          "base_uri": "https://localhost:8080/"
        },
        "id": "s1V_AsLwx3oP",
        "outputId": "2eacbc1c-b9d8-4254-d36f-7f90707838f6"
      },
      "execution_count": null,
      "outputs": [
        {
          "output_type": "stream",
          "name": "stdout",
          "text": [
            "+--------------------+-----+----------+\n",
            "|            features|label|prediction|\n",
            "+--------------------+-----+----------+\n",
            "|(12,[0,1,2,3,4,7]...|    0|       0.0|\n",
            "|(12,[0,1,2,3,4,7]...|    0|       0.0|\n",
            "|(12,[0,1,2,3,4,7]...|    0|       0.0|\n",
            "|(12,[0,1,2,3,4,7]...|    0|       0.0|\n",
            "|(12,[0,1,2,3,4,7]...|    0|       0.0|\n",
            "|(12,[0,1,2,3,4,7]...|    0|       0.0|\n",
            "|(12,[0,1,2,3,4,7]...|    0|       0.0|\n",
            "|(12,[0,1,2,3,4,7]...|    0|       0.0|\n",
            "|(12,[0,1,2,3,4,7]...|    0|       0.0|\n",
            "|(12,[0,1,2,3,4,7]...|    0|       0.0|\n",
            "|(12,[0,1,2,3,4,7]...|    0|       0.0|\n",
            "|(12,[0,1,2,3,4,7]...|    0|       0.0|\n",
            "|(12,[0,1,2,3,4,7]...|    0|       0.0|\n",
            "|(12,[0,1,2,3,4,7]...|    0|       0.0|\n",
            "|(12,[0,1,2,3,4,7]...|    0|       0.0|\n",
            "|(12,[0,1,2,3,4,7]...|    0|       0.0|\n",
            "|(12,[0,1,2,3,4,7]...|    0|       0.0|\n",
            "|(12,[0,1,2,3,4,7]...|    0|       0.0|\n",
            "|(12,[0,1,2,3,4,7]...|    0|       0.0|\n",
            "|(12,[0,1,2,3,4,7]...|    0|       0.0|\n",
            "+--------------------+-----+----------+\n",
            "only showing top 20 rows\n",
            "\n"
          ]
        }
      ]
    },
    {
      "cell_type": "markdown",
      "source": [
        "# Avaliação dos modelos\n",
        "---\n",
        "Para avaliar o desempenho do modelo preditivo usamos as métricas R2 e RMSE\n"
      ],
      "metadata": {
        "id": "SjfrviSrfyey"
      }
    },
    {
      "cell_type": "markdown",
      "source": [
        "### Regressão Linear"
      ],
      "metadata": {
        "id": "WwX-l3ycgLn0"
      }
    },
    {
      "cell_type": "code",
      "source": [
        "resumo_treino = modelo_lr.summary"
      ],
      "metadata": {
        "id": "Jfxo-MQUf01h"
      },
      "execution_count": null,
      "outputs": []
    },
    {
      "cell_type": "code",
      "source": [
        "# avaliando métrica R2 dos dados de treino\n",
        "resumo_treino.r2"
      ],
      "metadata": {
        "colab": {
          "base_uri": "https://localhost:8080/"
        },
        "id": "NJcY2wR6f7ji",
        "outputId": "9acaa88a-aafc-47bc-84ad-0d90d37c7107"
      },
      "execution_count": null,
      "outputs": [
        {
          "output_type": "execute_result",
          "data": {
            "text/plain": [
              "0.18695576782043977"
            ]
          },
          "metadata": {},
          "execution_count": 38
        }
      ]
    },
    {
      "cell_type": "code",
      "source": [
        "# avaliando métrica RMSE dos dados de treino\n",
        "resumo_treino.rootMeanSquaredError"
      ],
      "metadata": {
        "colab": {
          "base_uri": "https://localhost:8080/"
        },
        "id": "I8SAdXcmgAAH",
        "outputId": "d130b088-6474-4370-e685-ba2bfaa71f6c"
      },
      "execution_count": null,
      "outputs": [
        {
          "output_type": "execute_result",
          "data": {
            "text/plain": [
              "0.032490582273677814"
            ]
          },
          "metadata": {},
          "execution_count": 39
        }
      ]
    },
    {
      "cell_type": "code",
      "source": [
        "resumo_teste = modelo_lr.evaluate(teste)"
      ],
      "metadata": {
        "id": "olC2hy3vgJSP"
      },
      "execution_count": null,
      "outputs": []
    },
    {
      "cell_type": "code",
      "source": [
        "# avaliando métrica R2 dos dados de teste\n",
        "resumo_teste.r2"
      ],
      "metadata": {
        "colab": {
          "base_uri": "https://localhost:8080/"
        },
        "id": "AVhwohvegTPM",
        "outputId": "c6d045ff-1fa7-41a8-ad16-4e79aee246d4"
      },
      "execution_count": null,
      "outputs": [
        {
          "output_type": "execute_result",
          "data": {
            "text/plain": [
              "0.17787193769689302"
            ]
          },
          "metadata": {},
          "execution_count": 41
        }
      ]
    },
    {
      "cell_type": "code",
      "source": [
        "# avaliando métrica RMSE dos dados de teste\n",
        "resumo_teste.rootMeanSquaredError"
      ],
      "metadata": {
        "colab": {
          "base_uri": "https://localhost:8080/"
        },
        "id": "ovzKJMHigVLc",
        "outputId": "8c5726e1-6809-410f-efbc-47fc36d0d9cb"
      },
      "execution_count": null,
      "outputs": [
        {
          "output_type": "execute_result",
          "data": {
            "text/plain": [
              "0.032282505622328254"
            ]
          },
          "metadata": {},
          "execution_count": 42
        }
      ]
    },
    {
      "cell_type": "markdown",
      "source": [
        "##Arvore de decisão"
      ],
      "metadata": {
        "id": "PoT82UkCyWg6"
      }
    },
    {
      "cell_type": "code",
      "source": [
        "from pyspark.ml.evaluation import RegressionEvaluator"
      ],
      "metadata": {
        "id": "q7DDoiYRyZE-"
      },
      "execution_count": null,
      "outputs": []
    },
    {
      "cell_type": "code",
      "source": [
        "evaluator = RegressionEvaluator()"
      ],
      "metadata": {
        "id": "5LTR4TgZyhzr"
      },
      "execution_count": null,
      "outputs": []
    },
    {
      "cell_type": "code",
      "source": [
        "# avaliando métrica R2 dos dados de treino\n",
        "print(evaluator.evaluate(previsoes_dtr_treino, {evaluator.metricName: \"r2\"}))"
      ],
      "metadata": {
        "colab": {
          "base_uri": "https://localhost:8080/"
        },
        "id": "cRy_AbPDyjqU",
        "outputId": "bf898c75-8eb2-4e4c-eb69-23d04d30f35a"
      },
      "execution_count": null,
      "outputs": [
        {
          "output_type": "stream",
          "name": "stdout",
          "text": [
            "0.7027698595588623\n"
          ]
        }
      ]
    },
    {
      "cell_type": "code",
      "source": [
        "# avaliando métrica RMSE dos dados de treino\n",
        "print(evaluator.evaluate(previsoes_dtr_treino, {evaluator.metricName: \"rmse\"}))"
      ],
      "metadata": {
        "colab": {
          "base_uri": "https://localhost:8080/"
        },
        "id": "tlE7kbpKqsQv",
        "outputId": "efc24192-9e7f-4c18-b991-0838ee4b9a2c"
      },
      "execution_count": null,
      "outputs": [
        {
          "output_type": "stream",
          "name": "stdout",
          "text": [
            "0.019644764698096014\n"
          ]
        }
      ]
    },
    {
      "cell_type": "code",
      "source": [
        "previsoes_dtr_teste = modelo_dtr.transform(teste)"
      ],
      "metadata": {
        "id": "cyWG0uoYyqbz"
      },
      "execution_count": null,
      "outputs": []
    },
    {
      "cell_type": "code",
      "source": [
        "# avaliando métrica R2 dos dados de teste\n",
        "print(\"R²: %f\" % evaluator.evaluate(previsoes_dtr_treino, {evaluator.metricName: \"r2\"}))"
      ],
      "metadata": {
        "colab": {
          "base_uri": "https://localhost:8080/"
        },
        "id": "P7m5OYgpqxOt",
        "outputId": "42fe453f-4bdb-40a7-f685-243c3eccf48a"
      },
      "execution_count": null,
      "outputs": [
        {
          "output_type": "stream",
          "name": "stdout",
          "text": [
            "R²: 0.702770\n"
          ]
        }
      ]
    },
    {
      "cell_type": "code",
      "source": [
        "# avaliando métrica RMSE dos dados de teste\n",
        "print(\"RMSE: %f\" % evaluator.evaluate(previsoes_dtr_teste, {evaluator.metricName: \"rmse\"}))"
      ],
      "metadata": {
        "colab": {
          "base_uri": "https://localhost:8080/"
        },
        "id": "blDGamcXqyDA",
        "outputId": "6cb8de12-9978-4ba4-f959-f9c551db8cb4"
      },
      "execution_count": null,
      "outputs": [
        {
          "output_type": "stream",
          "name": "stdout",
          "text": [
            "RMSE: 0.019784\n"
          ]
        }
      ]
    },
    {
      "cell_type": "markdown",
      "source": [
        "### Comparativo de modelos"
      ],
      "metadata": {
        "id": "UGHvJ-2g-jSh"
      }
    },
    {
      "cell_type": "code",
      "source": [
        "print('Regressão Linear')\n",
        "print(\"Dados de Treino\")\n",
        "print(\"R²: %f\" % resumo_treino.r2)\n",
        "print(\"RMSE: %f\" % resumo_treino.rootMeanSquaredError)\n",
        "print(\"Dados de Teste\")\n",
        "print(\"R²: %f\" % resumo_teste.r2)\n",
        "print(\"RMSE: %f\" % resumo_teste.rootMeanSquaredError)\n",
        "print(\"\")\n",
        "print('Árvore de Decisão')\n",
        "print(\"Dados de Treino\")\n",
        "print(\"R²: %f\" % evaluator.evaluate(previsoes_dtr_treino, {evaluator.metricName: \"r2\"}))\n",
        "print(\"RMSE: %f\" % evaluator.evaluate(previsoes_dtr_treino, {evaluator.metricName: \"rmse\"}))\n",
        "print(\"Dados de Teste\")\n",
        "print(\"R²: %f\" % evaluator.evaluate(previsoes_dtr_teste, {evaluator.metricName: \"r2\"}))\n",
        "print(\"RMSE: %f\" % evaluator.evaluate(previsoes_dtr_teste, {evaluator.metricName: \"rmse\"}))\n",
        "\n"
      ],
      "metadata": {
        "colab": {
          "base_uri": "https://localhost:8080/"
        },
        "id": "TCh3FYvk-eNn",
        "outputId": "0f321e79-9dfc-4ad8-a2eb-f63bbd9b80d3"
      },
      "execution_count": null,
      "outputs": [
        {
          "output_type": "stream",
          "name": "stdout",
          "text": [
            "Regressão Linear\n",
            "Dados de Treino\n",
            "R²: 0.186956\n",
            "RMSE: 0.032491\n",
            "Dados de Teste\n",
            "R²: 0.177872\n",
            "RMSE: 0.032283\n",
            "\n",
            "Árvore de Decisão\n",
            "Dados de Treino\n",
            "R²: 0.702770\n",
            "RMSE: 0.019645\n",
            "Dados de Teste\n",
            "R²: 0.691222\n",
            "RMSE: 0.019784\n"
          ]
        }
      ]
    }
  ],
  "metadata": {
    "colab": {
      "provenance": [],
      "include_colab_link": true
    },
    "kernelspec": {
      "display_name": "Python 3",
      "language": "python",
      "name": "python3"
    },
    "language_info": {
      "codemirror_mode": {
        "name": "ipython",
        "version": 3
      },
      "file_extension": ".py",
      "mimetype": "text/x-python",
      "name": "python",
      "nbconvert_exporter": "python",
      "pygments_lexer": "ipython3",
      "version": "3.8.8"
    },
    "varInspector": {
      "cols": {
        "lenName": 16,
        "lenType": 16,
        "lenVar": 40
      },
      "kernels_config": {
        "python": {
          "delete_cmd_postfix": "",
          "delete_cmd_prefix": "del ",
          "library": "var_list.py",
          "varRefreshCmd": "print(var_dic_list())"
        },
        "r": {
          "delete_cmd_postfix": ") ",
          "delete_cmd_prefix": "rm(",
          "library": "var_list.r",
          "varRefreshCmd": "cat(var_dic_list()) "
        }
      },
      "types_to_exclude": [
        "module",
        "function",
        "builtin_function_or_method",
        "instance",
        "_Feature"
      ],
      "window_display": false
    }
  },
  "nbformat": 4,
  "nbformat_minor": 0
}